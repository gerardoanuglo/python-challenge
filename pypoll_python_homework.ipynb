{
 "cells": [
  {
   "cell_type": "code",
   "execution_count": null,
   "id": "d5d2ebbb",
   "metadata": {},
   "outputs": [],
   "source": [
    "#PyPoll\n",
    "#You are tasked with helping a small, rural town modernize its vote counting process."
   ]
  },
  {
   "cell_type": "code",
   "execution_count": 2,
   "id": "130fb1bd",
   "metadata": {},
   "outputs": [],
   "source": [
    "#import relevant modules\n",
    "import pandas as pd\n",
    "\n",
    "#import csv file\n",
    "pypoll_df = pd.read_csv(\"/Users/Jerry/Documents/Homework/python-challenge/election_data.csv\")\n",
    "\n",
    "#print header for results\n",
    "print(\"Election Results\")\n",
    "print(\"----------------------------------------------\")"
   ]
  },
  {
   "cell_type": "code",
   "execution_count": 3,
   "id": "4a8de90e",
   "metadata": {},
   "outputs": [],
   "source": [
    "#summarize the top and the bottom of the csv file\n",
    "pypoll_df.head()"
   ]
  },
  {
   "cell_type": "code",
   "execution_count": 4,
   "id": "8dfa16f0",
   "metadata": {},
   "outputs": [],
   "source": [
    "pypoll_df.tail()"
   ]
  },
  {
   "cell_type": "code",
   "execution_count": 5,
   "id": "62fd3df1",
   "metadata": {},
   "outputs": [],
   "source": [
    "pypoll_df.columns"
   ]
  },
  {
   "cell_type": "code",
   "execution_count": 6,
   "id": "12a3fcbb",
   "metadata": {},
   "outputs": [],
   "source": [
    "#The total number of votes cast\n",
    "total_votes = len(pypoll_df[\"Ballot ID\"].unique())\n",
    "print(f\"Total Votes: {total_votes}\")\n",
    "print(\"----------------------------------------------\")"
   ]
  },
  {
   "cell_type": "code",
   "execution_count": 7,
   "id": "ede882f4",
   "metadata": {},
   "outputs": [],
   "source": [
    "#A complete list of candidates who received votes\n",
    "candidate_voted_for = pypoll_df[\"Candidate\"].unique()\n",
    "print(candidate_voted_for)"
   ]
  },
  {
   "cell_type": "code",
   "execution_count": 14,
   "id": "6535b881",
   "metadata": {},
   "outputs": [
    {
     "data": {
      "text/plain": [
       "Diana DeGette              0.738122\n",
       "Charles Casper Stockham    0.230485\n",
       "Raymon Anthony Doane       0.031392\n",
       "Name: Candidate, dtype: float64"
      ]
     },
     "execution_count": 14,
     "metadata": {},
     "output_type": "execute_result"
    }
   ],
   "source": [
    "#The percentage of votes each candidate won\n",
    "candidate_vote_percent = pypoll_df[\"Candidate\"].value_counts(normalize = True)\n",
    "candidate_vote_percent.head()"
   ]
  },
  {
   "cell_type": "code",
   "execution_count": 15,
   "id": "206f898f",
   "metadata": {},
   "outputs": [
    {
     "data": {
      "text/plain": [
       "Diana DeGette              272892\n",
       "Charles Casper Stockham     85213\n",
       "Raymon Anthony Doane        11606\n",
       "Name: Candidate, dtype: int64"
      ]
     },
     "execution_count": 15,
     "metadata": {},
     "output_type": "execute_result"
    }
   ],
   "source": [
    "#The total number of votes each candidate won\n",
    "candidate_vote_count = pypoll_df[\"Candidate\"].value_counts()\n",
    "candidate_vote_count.head()"
   ]
  },
  {
   "cell_type": "code",
   "execution_count": 10,
   "id": "d4e8a349",
   "metadata": {},
   "outputs": [],
   "source": [
    "#create total variables\n",
    "dtotal = (f\"({272892})\")\n",
    "ctotal = (f\"({85213})\")\n",
    "rtotal = (f\"({11606})\")\n",
    "\n",
    "#create variabes for candidate percentages\n",
    "diana_dec = round(((0.738122) *100), 3)\n",
    "charles_dec = round(((0.230485) *100), 3)\n",
    "raymon_dec = round(((0.031392) *100), 3)\n",
    "\n",
    "#add percent signs to percentages\n",
    "dper = (f\"%{diana_dec}\")\n",
    "cper = (f\"%{charles_dec}\")\n",
    "rper = (f\"%{raymon_dec}\")\n",
    "\n"
   ]
  },
  {
   "cell_type": "code",
   "execution_count": 20,
   "id": "b7ddc350",
   "metadata": {
    "scrolled": true
   },
   "outputs": [
    {
     "data": {
      "text/html": [
       "<div>\n",
       "<style scoped>\n",
       "    .dataframe tbody tr th:only-of-type {\n",
       "        vertical-align: middle;\n",
       "    }\n",
       "\n",
       "    .dataframe tbody tr th {\n",
       "        vertical-align: top;\n",
       "    }\n",
       "\n",
       "    .dataframe thead th {\n",
       "        text-align: right;\n",
       "    }\n",
       "</style>\n",
       "<table border=\"1\" class=\"dataframe\">\n",
       "  <thead>\n",
       "    <tr style=\"text-align: right;\">\n",
       "      <th></th>\n",
       "      <th>Candidates</th>\n",
       "      <th>Percentage of Votes</th>\n",
       "      <th>Total votes</th>\n",
       "    </tr>\n",
       "  </thead>\n",
       "  <tbody>\n",
       "    <tr>\n",
       "      <th>0</th>\n",
       "      <td>Diana DeGette:</td>\n",
       "      <td>%73.812</td>\n",
       "      <td>(272892)</td>\n",
       "    </tr>\n",
       "    <tr>\n",
       "      <th>1</th>\n",
       "      <td>Charles Casper Stockham:</td>\n",
       "      <td>%23.049</td>\n",
       "      <td>(85213)</td>\n",
       "    </tr>\n",
       "    <tr>\n",
       "      <th>2</th>\n",
       "      <td>Raymon Anthony Doane:</td>\n",
       "      <td>%3.139</td>\n",
       "      <td>(11606)</td>\n",
       "    </tr>\n",
       "  </tbody>\n",
       "</table>\n",
       "</div>"
      ],
      "text/plain": [
       "                 Candidates Percentage of Votes Total votes\n",
       "0            Diana DeGette:             %73.812    (272892)\n",
       "1  Charles Casper Stockham:             %23.049     (85213)\n",
       "2     Raymon Anthony Doane:              %3.139     (11606)"
      ]
     },
     "execution_count": 20,
     "metadata": {},
     "output_type": "execute_result"
    }
   ],
   "source": [
    "#create dict for results section\n",
    "result_info = {\"Candidates\": [\"Diana DeGette:\", \"Charles Casper Stockham:\", \"Raymon Anthony Doane:\"],\n",
    "                \"Percentage of Votes\": [dper, cper, rper],\n",
    "               \"Total votes\": [dtotal, ctotal, rtotal]}\n",
    "\n",
    "#dataframe created by the dictionaries named result_info\n",
    "results_df = pd.DataFrame.from_dict(result_info)\n",
    "results_df"
   ]
  },
  {
   "cell_type": "code",
   "execution_count": 12,
   "id": "854b6cc5",
   "metadata": {},
   "outputs": [],
   "source": [
    "#the winner based off of popular votes\n",
    "max = candidate_vote_count.max()\n",
    "print(\"----------------------------------------------\")\n",
    "print(f\"Winner: Diana DeGette - {max} votes\")"
   ]
  },
  {
   "cell_type": "code",
   "execution_count": 22,
   "id": "3ccca167",
   "metadata": {},
   "outputs": [
    {
     "name": "stdout",
     "output_type": "stream",
     "text": [
      "Election Results\n",
      "----------------------------------------------\n",
      "Total Votes: 369711\n",
      "----------------------------------------------\n",
      "              Candidates Percentage of Votes Total votes\n",
      "          Diana DeGette:             %73.812    (272892)\n",
      "Charles Casper Stockham:             %23.049     (85213)\n",
      "   Raymon Anthony Doane:              %3.139     (11606)\n",
      "----------------------------------------------\n",
      "Winner: Diana DeGette - 272892 votes\n",
      "----------------------------------------------\n"
     ]
    }
   ],
   "source": [
    "#final election result sheet\n",
    "print(\"Election Results\")\n",
    "print(\"----------------------------------------------\")\n",
    "print(f\"Total Votes: {total_votes}\")\n",
    "print(\"----------------------------------------------\")\n",
    "print(results_df.to_string(index = False))\n",
    "print(\"----------------------------------------------\")\n",
    "print(f\"Winner: Diana DeGette - {max} votes\")\n",
    "print(\"----------------------------------------------\")"
   ]
  },
  {
   "cell_type": "code",
   "execution_count": null,
   "id": "b733b717",
   "metadata": {},
   "outputs": [],
   "source": [
    "#.py file to run in terminal"
   ]
  }
 ],
 "metadata": {
  "kernelspec": {
   "display_name": "Python 3 (ipykernel)",
   "language": "python",
   "name": "python3"
  },
  "language_info": {
   "codemirror_mode": {
    "name": "ipython",
    "version": 3
   },
   "file_extension": ".py",
   "mimetype": "text/x-python",
   "name": "python",
   "nbconvert_exporter": "python",
   "pygments_lexer": "ipython3",
   "version": "3.9.7"
  }
 },
 "nbformat": 4,
 "nbformat_minor": 5
}
