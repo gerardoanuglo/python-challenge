{
 "cells": [
  {
   "cell_type": "code",
   "execution_count": 54,
   "id": "b2250042",
   "metadata": {},
   "outputs": [],
   "source": [
    "#pybank homework"
   ]
  },
  {
   "cell_type": "code",
   "execution_count": 1,
   "id": "3df091ed",
   "metadata": {},
   "outputs": [],
   "source": [
    "#import relevant modules\n",
    "import pandas as pd\n",
    "import os\n",
    "\n",
    "csv_file = \"/Users/Jerry/Documents/Homework/python-challenge/budget_data.csv\"\n",
    "\n",
    "#upload cvs file\n",
    "pybank_df = pd.read_csv(csv_file)"
   ]
  },
  {
   "cell_type": "code",
   "execution_count": 2,
   "id": "2192e783",
   "metadata": {},
   "outputs": [],
   "source": [
    "#py_bank_csv = pd.read_csv(\"C:\\Users\\19095\\Downloads\\budget_data.csv\")\n",
    "#SyntaxError: (unicode error) 'unicodeescape' codec can't decode bytes in position 2-3: truncated \\UXXXXXXXX escape\n",
    "#Solution found on: https://stackoverflow.com/questions/37400974/unicode-error-unicodeescape-codec-cant-decode-bytes-in-position-2-3-trunca"
   ]
  },
  {
   "cell_type": "code",
   "execution_count": 3,
   "id": "90482ddb",
   "metadata": {},
   "outputs": [
    {
     "data": {
      "text/html": [
       "<div>\n",
       "<style scoped>\n",
       "    .dataframe tbody tr th:only-of-type {\n",
       "        vertical-align: middle;\n",
       "    }\n",
       "\n",
       "    .dataframe tbody tr th {\n",
       "        vertical-align: top;\n",
       "    }\n",
       "\n",
       "    .dataframe thead th {\n",
       "        text-align: right;\n",
       "    }\n",
       "</style>\n",
       "<table border=\"1\" class=\"dataframe\">\n",
       "  <thead>\n",
       "    <tr style=\"text-align: right;\">\n",
       "      <th></th>\n",
       "      <th>Date</th>\n",
       "      <th>Profit/Losses</th>\n",
       "    </tr>\n",
       "  </thead>\n",
       "  <tbody>\n",
       "    <tr>\n",
       "      <th>0</th>\n",
       "      <td>Jan-10</td>\n",
       "      <td>1088983</td>\n",
       "    </tr>\n",
       "    <tr>\n",
       "      <th>1</th>\n",
       "      <td>Feb-10</td>\n",
       "      <td>-354534</td>\n",
       "    </tr>\n",
       "    <tr>\n",
       "      <th>2</th>\n",
       "      <td>Mar-10</td>\n",
       "      <td>276622</td>\n",
       "    </tr>\n",
       "    <tr>\n",
       "      <th>3</th>\n",
       "      <td>Apr-10</td>\n",
       "      <td>-728133</td>\n",
       "    </tr>\n",
       "    <tr>\n",
       "      <th>4</th>\n",
       "      <td>May-10</td>\n",
       "      <td>852993</td>\n",
       "    </tr>\n",
       "  </tbody>\n",
       "</table>\n",
       "</div>"
      ],
      "text/plain": [
       "     Date  Profit/Losses\n",
       "0  Jan-10        1088983\n",
       "1  Feb-10        -354534\n",
       "2  Mar-10         276622\n",
       "3  Apr-10        -728133\n",
       "4  May-10         852993"
      ]
     },
     "execution_count": 3,
     "metadata": {},
     "output_type": "execute_result"
    }
   ],
   "source": [
    "#preview beginning and ending of csv file\n",
    "\n",
    "pybank_df.head()"
   ]
  },
  {
   "cell_type": "code",
   "execution_count": 58,
   "id": "372af347",
   "metadata": {},
   "outputs": [],
   "source": [
    "pybank_df.tail()"
   ]
  },
  {
   "cell_type": "code",
   "execution_count": 59,
   "id": "7407a2cc",
   "metadata": {},
   "outputs": [],
   "source": [
    "#Your task is to create a Python script that analyzes the records to calculate each of the following:\n",
    "#The total number of months included in the dataset\n",
    "pybank_df.columns"
   ]
  },
  {
   "cell_type": "code",
   "execution_count": 60,
   "id": "2c1e5d65",
   "metadata": {},
   "outputs": [],
   "source": [
    "print(\"Financial Analysis\")\n",
    "print(\"--------------------------------------------\")\n",
    "month_count = len(pybank_df[\"Date\"].unique())\n",
    "print(\"Total Months: \" + str(month_count))"
   ]
  },
  {
   "cell_type": "code",
   "execution_count": 61,
   "id": "0b4898aa",
   "metadata": {
    "scrolled": true
   },
   "outputs": [],
   "source": [
    "#The net total amount of \"Profit/Losses\" over the entire period\n",
    "net_total = pybank_df[\"Profit/Losses\"].sum()\n",
    "print(\"Total: $\" + str(net_total))"
   ]
  },
  {
   "cell_type": "code",
   "execution_count": 62,
   "id": "fa913c2e",
   "metadata": {},
   "outputs": [],
   "source": [
    "#The changes in \"Profit/Losses\" over the entire period\n",
    "dif_bw_months = pybank_df[\"Profit/Losses\"].diff()\n",
    "print(dif_bw_months)"
   ]
  },
  {
   "cell_type": "code",
   "execution_count": 63,
   "id": "9f1becea",
   "metadata": {},
   "outputs": [],
   "source": [
    "#and then the average of those changes\n",
    "avg_of_the_changes = dif_bw_months.mean()\n",
    "rounded = round(avg_of_the_changes, 2)\n",
    "\n",
    "print(f\"Average Change: ${rounded}\")"
   ]
  },
  {
   "cell_type": "code",
   "execution_count": null,
   "id": "545164c0",
   "metadata": {},
   "outputs": [],
   "source": []
  },
  {
   "cell_type": "code",
   "execution_count": 64,
   "id": "aee3b696",
   "metadata": {},
   "outputs": [],
   "source": [
    "#my attempt to create a df with the column Date and the new column dif_bw_months\n",
    "dif_bw_months = pd.DataFrame(pybank_df[\"Date\"]), pybank_df[\"Profit/Losses\"].diff()\n",
    "dif_bw_months"
   ]
  },
  {
   "cell_type": "code",
   "execution_count": 65,
   "id": "d1060d57",
   "metadata": {},
   "outputs": [],
   "source": [
    "#Finding the difference in profit/losses between months\n",
    "dif_bw_months = pybank_df[\"Profit/Losses\"].diff()\n",
    "print(dif_bw_months)\n",
    "\n",
    "#The greatest increase in profits (date and amount) over the entire period\n",
    "greatest_positive_change = dif_bw_months.max()\n",
    "greatest_positive_change"
   ]
  },
  {
   "cell_type": "code",
   "execution_count": 66,
   "id": "0fbc5761",
   "metadata": {},
   "outputs": [],
   "source": [
    "#The greatest decrease in profits (date and amount) over the entire period\n",
    "greatest_negative_change = dif_bw_months.min()\n",
    "greatest_negative_change"
   ]
  },
  {
   "cell_type": "code",
   "execution_count": 67,
   "id": "5e2e5132",
   "metadata": {},
   "outputs": [
    {
     "name": "stdout",
     "output_type": "stream",
     "text": [
      "Financial Analysis\n",
      "--------------------------------------------\n",
      "Total Months: 86\n",
      "Total: $22564198\n",
      "Average Change: $-8311.11\n",
      "Greatest Increase in Profits: Aug-16 $1862002.0\n",
      "Greatest decrease in Profits: Feb-14 $-1825558.0\n"
     ]
    }
   ],
   "source": [
    "print(\"Financial Analysis\")\n",
    "print(\"--------------------------------------------\")\n",
    "print(\"Total Months: \" + str(month_count))\n",
    "print(\"Total: $\" + str(net_total))\n",
    "print(f\"Average Change: ${rounded}\")\n",
    "print(f\"Greatest Increase in Profits: Aug-16 ${greatest_positive_change}\")\n",
    "\n",
    "print(f\"Greatest decrease in Profits: Feb-14 ${greatest_negative_change}\")"
   ]
  },
  {
   "cell_type": "code",
   "execution_count": null,
   "id": "fc3bbd95",
   "metadata": {},
   "outputs": [],
   "source": [
    "file\n",
    "with open(csv_file, 'r') as text:\n",
    "    print(text)\n",
    "    lines = text."
   ]
  }
 ],
 "metadata": {
  "kernelspec": {
   "display_name": "Python 3 (ipykernel)",
   "language": "python",
   "name": "python3"
  },
  "language_info": {
   "codemirror_mode": {
    "name": "ipython",
    "version": 3
   },
   "file_extension": ".py",
   "mimetype": "text/x-python",
   "name": "python",
   "nbconvert_exporter": "python",
   "pygments_lexer": "ipython3",
   "version": "3.9.7"
  }
 },
 "nbformat": 4,
 "nbformat_minor": 5
}
